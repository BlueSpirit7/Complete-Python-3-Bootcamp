{
  "nbformat": 4,
  "nbformat_minor": 0,
  "metadata": {
    "colab": {
      "name": "Udemy1.ipynb",
      "provenance": [],
      "collapsed_sections": [],
      "authorship_tag": "ABX9TyOcVO/9srtiG+ldI9QP5Yob",
      "include_colab_link": true
    },
    "kernelspec": {
      "name": "python3",
      "display_name": "Python 3"
    },
    "language_info": {
      "name": "python"
    }
  },
  "cells": [
    {
      "cell_type": "markdown",
      "metadata": {
        "id": "view-in-github",
        "colab_type": "text"
      },
      "source": [
        "<a href=\"https://colab.research.google.com/github/BlueSpirit7/Complete-Python-3-Bootcamp/blob/master/Udemy1.ipynb\" target=\"_parent\"><img src=\"https://colab.research.google.com/assets/colab-badge.svg\" alt=\"Open In Colab\"/></a>"
      ]
    },
    {
      "cell_type": "code",
      "execution_count": null,
      "metadata": {
        "id": "TkyWrJwjLFkv"
      },
      "outputs": [],
      "source": [
        "a=11%2==0"
      ]
    },
    {
      "cell_type": "code",
      "source": [
        "a"
      ],
      "metadata": {
        "colab": {
          "base_uri": "https://localhost:8080/"
        },
        "id": "iLq0uBHlLSRR",
        "outputId": "0f637c90-5e7d-4aca-c89c-691e4f2417ae"
      },
      "execution_count": null,
      "outputs": [
        {
          "output_type": "execute_result",
          "data": {
            "text/plain": [
              "False"
            ]
          },
          "metadata": {},
          "execution_count": 3
        }
      ]
    },
    {
      "cell_type": "code",
      "source": [
        "def myfunc(Name):\n",
        "    print('Hello {}'.format(Name))"
      ],
      "metadata": {
        "id": "6zLhZEtsQXfU"
      },
      "execution_count": null,
      "outputs": []
    },
    {
      "cell_type": "code",
      "source": [
        "myfunc(\"Hafeez\")"
      ],
      "metadata": {
        "colab": {
          "base_uri": "https://localhost:8080/"
        },
        "id": "S6Lkq2COUUo2",
        "outputId": "c1e4e68f-4395-4c0d-cd09-ece0f6684d76"
      },
      "execution_count": null,
      "outputs": [
        {
          "output_type": "stream",
          "name": "stdout",
          "text": [
            "Hello Hafeez\n"
          ]
        }
      ]
    },
    {
      "cell_type": "code",
      "source": [
        "def myfunc(a):\n",
        "    if a==TRUE:\n",
        "        return \"Hello\"\n",
        "    else:\n",
        "        a==FALSE\n",
        "    return \"Goodbye\""
      ],
      "metadata": {
        "id": "GRKXsj5gUYYg"
      },
      "execution_count": null,
      "outputs": []
    },
    {
      "cell_type": "code",
      "source": [
        "myfunc(TRUE)"
      ],
      "metadata": {
        "colab": {
          "base_uri": "https://localhost:8080/",
          "height": 165
        },
        "id": "ZUpR6-HQeQFH",
        "outputId": "5572d106-da9d-4df3-d596-a4961058bede"
      },
      "execution_count": null,
      "outputs": [
        {
          "output_type": "error",
          "ename": "NameError",
          "evalue": "ignored",
          "traceback": [
            "\u001b[0;31m---------------------------------------------------------------------------\u001b[0m",
            "\u001b[0;31mNameError\u001b[0m                                 Traceback (most recent call last)",
            "\u001b[0;32m<ipython-input-11-b86aaf868ebf>\u001b[0m in \u001b[0;36m<module>\u001b[0;34m()\u001b[0m\n\u001b[0;32m----> 1\u001b[0;31m \u001b[0mmyfunc\u001b[0m\u001b[0;34m(\u001b[0m\u001b[0mTRUE\u001b[0m\u001b[0;34m)\u001b[0m\u001b[0;34m\u001b[0m\u001b[0;34m\u001b[0m\u001b[0m\n\u001b[0m",
            "\u001b[0;31mNameError\u001b[0m: name 'TRUE' is not defined"
          ]
        }
      ]
    },
    {
      "cell_type": "code",
      "source": [
        "def myfunc(a):\n",
        "    if a == True:\n",
        "        return \"Hello\"\n",
        "    elif a == False: \n",
        "        return \"Goodbye\""
      ],
      "metadata": {
        "id": "qOEEk_ySeUWX"
      },
      "execution_count": null,
      "outputs": []
    },
    {
      "cell_type": "code",
      "source": [
        "myfunc(False)"
      ],
      "metadata": {
        "colab": {
          "base_uri": "https://localhost:8080/",
          "height": 35
        },
        "id": "44ZU2YKUfHCw",
        "outputId": "c72e43c6-3d14-43ad-f6da-e69ea99c9a09"
      },
      "execution_count": null,
      "outputs": [
        {
          "output_type": "execute_result",
          "data": {
            "application/vnd.google.colaboratory.intrinsic+json": {
              "type": "string"
            },
            "text/plain": [
              "'Goodbye'"
            ]
          },
          "metadata": {},
          "execution_count": 13
        }
      ]
    },
    {
      "cell_type": "code",
      "source": [
        "def myfunc(x,y,z):\n",
        "    if z==True:\n",
        "        return x\n",
        "    elif z==False:\n",
        "        return y"
      ],
      "metadata": {
        "id": "255JHs0mffF1"
      },
      "execution_count": null,
      "outputs": []
    },
    {
      "cell_type": "code",
      "source": [
        "def myfunc(a,b):\n",
        "  return a + b"
      ],
      "metadata": {
        "id": "4dUYLM-QuIrw"
      },
      "execution_count": null,
      "outputs": []
    },
    {
      "cell_type": "code",
      "source": [
        "myfunc(1,2)"
      ],
      "metadata": {
        "colab": {
          "base_uri": "https://localhost:8080/"
        },
        "id": "0kt0pNi3uK6y",
        "outputId": "9a6341d8-d47b-49ec-bd4e-d3cf5c0e7d4c"
      },
      "execution_count": null,
      "outputs": [
        {
          "output_type": "execute_result",
          "data": {
            "text/plain": [
              "3"
            ]
          },
          "metadata": {},
          "execution_count": 16
        }
      ]
    },
    {
      "cell_type": "code",
      "source": [
        "def is_even(a):\n",
        "  result=a%2==0\n",
        "  return result"
      ],
      "metadata": {
        "id": "0JJeV0-HusXT"
      },
      "execution_count": null,
      "outputs": []
    },
    {
      "cell_type": "code",
      "source": [
        "is_even(2)"
      ],
      "metadata": {
        "colab": {
          "base_uri": "https://localhost:8080/"
        },
        "id": "aS5e_bIGvGq-",
        "outputId": "b3d178b9-8deb-4da2-8d9d-7210a42b4675"
      },
      "execution_count": null,
      "outputs": [
        {
          "output_type": "execute_result",
          "data": {
            "text/plain": [
              "True"
            ]
          },
          "metadata": {},
          "execution_count": 18
        }
      ]
    },
    {
      "cell_type": "code",
      "source": [
        "def is_greater(a,b):\n",
        "  if a>b:\n",
        "    return True\n",
        "  else:\n",
        "    return False"
      ],
      "metadata": {
        "id": "rIfum3v0vI92"
      },
      "execution_count": null,
      "outputs": []
    },
    {
      "cell_type": "code",
      "source": [
        "is_greater(10,1)"
      ],
      "metadata": {
        "colab": {
          "base_uri": "https://localhost:8080/"
        },
        "id": "hqi3fUkYv8HV",
        "outputId": "b3c6b492-1752-473d-d242-6303c16b6d72"
      },
      "execution_count": null,
      "outputs": [
        {
          "output_type": "execute_result",
          "data": {
            "text/plain": [
              "True"
            ]
          },
          "metadata": {},
          "execution_count": 20
        }
      ]
    },
    {
      "cell_type": "markdown",
      "source": [
        "***args and kwargs***"
      ],
      "metadata": {
        "id": "u96Y0T3V1gRb"
      }
    },
    {
      "cell_type": "code",
      "source": [
        "def myfunc(*args):\n",
        "  return sum((args))*100"
      ],
      "metadata": {
        "id": "vRJyrjT9wAZw"
      },
      "execution_count": null,
      "outputs": []
    },
    {
      "cell_type": "code",
      "source": [
        "myfunc(1,2)"
      ],
      "metadata": {
        "colab": {
          "base_uri": "https://localhost:8080/"
        },
        "id": "AAPJCe7N2OsA",
        "outputId": "69fcae81-4f56-4755-81c6-ef9c48004f3c"
      },
      "execution_count": null,
      "outputs": [
        {
          "output_type": "execute_result",
          "data": {
            "text/plain": [
              "300"
            ]
          },
          "metadata": {},
          "execution_count": 22
        }
      ]
    },
    {
      "cell_type": "code",
      "source": [
        "def myfunc(a,b,c=0):\n",
        "  return sum((1,2,3))*100"
      ],
      "metadata": {
        "id": "qozFmDY92mfr"
      },
      "execution_count": null,
      "outputs": []
    },
    {
      "cell_type": "code",
      "source": [
        "def myfunc(**kwargs):\n",
        "  if 'fruit' in kwargs:\n",
        "    return (\"I love {}\".format(kwargs['fruit']))\n",
        "  else:\n",
        "    return (\"Not present\")"
      ],
      "metadata": {
        "id": "ApFSFBeJ3I3k"
      },
      "execution_count": null,
      "outputs": []
    },
    {
      "cell_type": "code",
      "source": [
        "myfunc(fruit=\"banana\", drink=\"coke\")"
      ],
      "metadata": {
        "colab": {
          "base_uri": "https://localhost:8080/",
          "height": 35
        },
        "id": "5TdSt2LyGzz1",
        "outputId": "5cf4c39f-7d72-4f22-bb8d-c971d98f739e"
      },
      "execution_count": null,
      "outputs": [
        {
          "output_type": "execute_result",
          "data": {
            "application/vnd.google.colaboratory.intrinsic+json": {
              "type": "string"
            },
            "text/plain": [
              "'I love banana'"
            ]
          },
          "metadata": {},
          "execution_count": 25
        }
      ]
    },
    {
      "cell_type": "code",
      "source": [
        "myfunc(drink=\"coke\")"
      ],
      "metadata": {
        "colab": {
          "base_uri": "https://localhost:8080/",
          "height": 35
        },
        "id": "SNVYvbFdE-KP",
        "outputId": "e6fade61-1dda-4c82-f695-fd5e3f65d8a4"
      },
      "execution_count": null,
      "outputs": [
        {
          "output_type": "execute_result",
          "data": {
            "application/vnd.google.colaboratory.intrinsic+json": {
              "type": "string"
            },
            "text/plain": [
              "'Not present'"
            ]
          },
          "metadata": {},
          "execution_count": 26
        }
      ]
    },
    {
      "cell_type": "code",
      "source": [
        "#combination\n",
        "def myfunc(*args,**kwargs):\n",
        "  return (\"I will have over {} {}\".format(args[2],kwargs['money']))"
      ],
      "metadata": {
        "id": "YA1legUzFGSY"
      },
      "execution_count": null,
      "outputs": []
    },
    {
      "cell_type": "code",
      "source": [
        "myfunc(100,200,300,money=\"billion dollars\",car=\"ferrari\",watch=\"hublot\")"
      ],
      "metadata": {
        "colab": {
          "base_uri": "https://localhost:8080/",
          "height": 35
        },
        "id": "fE30DCxwIPAW",
        "outputId": "669e8c9d-eba6-4a9c-a80f-eb01892420b2"
      },
      "execution_count": null,
      "outputs": [
        {
          "output_type": "execute_result",
          "data": {
            "application/vnd.google.colaboratory.intrinsic+json": {
              "type": "string"
            },
            "text/plain": [
              "'I will have over 300 billion dollars'"
            ]
          },
          "metadata": {},
          "execution_count": 28
        }
      ]
    },
    {
      "cell_type": "markdown",
      "source": [
        "***EXCERCISE***"
      ],
      "metadata": {
        "id": "_ZZvh9xiO8XP"
      }
    },
    {
      "cell_type": "code",
      "source": [
        "def myfunc(*args):\n",
        "    return sum(args)"
      ],
      "metadata": {
        "id": "38cURURjI7a8"
      },
      "execution_count": null,
      "outputs": []
    },
    {
      "cell_type": "code",
      "source": [
        "myfunc(1,2,3)"
      ],
      "metadata": {
        "colab": {
          "base_uri": "https://localhost:8080/"
        },
        "id": "7ewB7yHDLddd",
        "outputId": "8f61e6a6-39d0-4bc1-fc08-f791740f0745"
      },
      "execution_count": null,
      "outputs": [
        {
          "output_type": "execute_result",
          "data": {
            "text/plain": [
              "6"
            ]
          },
          "metadata": {},
          "execution_count": 30
        }
      ]
    },
    {
      "cell_type": "code",
      "source": [
        "#excercise\n",
        "def myfunc(*args):\n",
        "  even_num=[]\n",
        "  for x in args:\n",
        "    if x%2==0:\n",
        "      even_num.append(x)\n",
        "    else:\n",
        "      pass\n",
        "  return even_num"
      ],
      "metadata": {
        "id": "E3XNoUt8Lh4N"
      },
      "execution_count": null,
      "outputs": []
    },
    {
      "cell_type": "code",
      "source": [
        "myfunc(1,2,3,4,5)"
      ],
      "metadata": {
        "colab": {
          "base_uri": "https://localhost:8080/"
        },
        "id": "c8lWdu7yMO1Z",
        "outputId": "b10484f8-6cb1-4b03-efb3-3e467fba3792"
      },
      "execution_count": null,
      "outputs": [
        {
          "output_type": "execute_result",
          "data": {
            "text/plain": [
              "[2, 4]"
            ]
          },
          "metadata": {},
          "execution_count": 32
        }
      ]
    },
    {
      "cell_type": "code",
      "source": [
        "a = 'baba'"
      ],
      "metadata": {
        "id": "QqsLQhz4MSo4"
      },
      "execution_count": null,
      "outputs": []
    },
    {
      "cell_type": "code",
      "source": [
        "for index,letter in enumerate(a):\n",
        "  print(index)\n",
        "  print(letter)"
      ],
      "metadata": {
        "colab": {
          "base_uri": "https://localhost:8080/"
        },
        "id": "pv1kEL2GULRc",
        "outputId": "a53da431-c28f-422a-9dad-3dad83bb5d81"
      },
      "execution_count": null,
      "outputs": [
        {
          "output_type": "stream",
          "name": "stdout",
          "text": [
            "0\n",
            "b\n",
            "1\n",
            "a\n",
            "2\n",
            "b\n",
            "3\n",
            "a\n"
          ]
        }
      ]
    },
    {
      "cell_type": "code",
      "source": [
        "def myfunc(name):\n",
        "  for index in 'name':\n",
        "    if index%2==0:\n",
        "      return name.upper()\n",
        "    else:\n",
        "      return name.lower"
      ],
      "metadata": {
        "id": "HwvHEjauUZyT"
      },
      "execution_count": null,
      "outputs": []
    },
    {
      "cell_type": "code",
      "source": [
        "a=\"name\""
      ],
      "metadata": {
        "id": "TSxIQkLcF-Rp"
      },
      "execution_count": null,
      "outputs": []
    },
    {
      "cell_type": "code",
      "source": [
        "range(len(a))"
      ],
      "metadata": {
        "colab": {
          "base_uri": "https://localhost:8080/"
        },
        "id": "8_RySCIFGNwD",
        "outputId": "af800ab8-2c5c-4d57-8dea-e6b83ae02937"
      },
      "execution_count": null,
      "outputs": [
        {
          "output_type": "execute_result",
          "data": {
            "text/plain": [
              "range(0, 4)"
            ]
          },
          "metadata": {},
          "execution_count": 53
        }
      ]
    },
    {
      "cell_type": "code",
      "source": [
        "#create 2 list and join them \n",
        "def myfunc(x):\n",
        "    out=[]\n",
        "    for i in range(len(x)):\n",
        "        if i%2==0:\n",
        "            out.append(x[i].upper())\n",
        "        else:\n",
        "            out.append(x[i].lower())\n",
        "    return ''.join(out)"
      ],
      "metadata": {
        "id": "nTW3YzgPHFyG"
      },
      "execution_count": null,
      "outputs": []
    },
    {
      "cell_type": "code",
      "source": [
        "myfunc('baba')"
      ],
      "metadata": {
        "colab": {
          "base_uri": "https://localhost:8080/",
          "height": 35
        },
        "id": "cs21YFhLLeru",
        "outputId": "e512a189-9237-43df-96c3-82fe3610b049"
      },
      "execution_count": null,
      "outputs": [
        {
          "output_type": "execute_result",
          "data": {
            "application/vnd.google.colaboratory.intrinsic+json": {
              "type": "string"
            },
            "text/plain": [
              "'BaBa'"
            ]
          },
          "metadata": {},
          "execution_count": 66
        }
      ]
    },
    {
      "cell_type": "code",
      "source": [
        "def myfunc(x):\n",
        "    out = []\n",
        "    for i in range(len(x)):\n",
        "        if i%2==0:\n",
        "            out.append(x[i].lower())\n",
        "        else:\n",
        "            out.append(x[i].upper())\n",
        "    return ''.join(out)"
      ],
      "metadata": {
        "id": "ZflGfUX_LjTy"
      },
      "execution_count": null,
      "outputs": []
    },
    {
      "cell_type": "code",
      "source": [
        "myfunc('baba')"
      ],
      "metadata": {
        "colab": {
          "base_uri": "https://localhost:8080/",
          "height": 35
        },
        "id": "iMg485FoMOMz",
        "outputId": "73005f6f-0743-463b-ebcd-47a891c6cca4"
      },
      "execution_count": null,
      "outputs": [
        {
          "output_type": "execute_result",
          "data": {
            "application/vnd.google.colaboratory.intrinsic+json": {
              "type": "string"
            },
            "text/plain": [
              "'bAbA'"
            ]
          },
          "metadata": {},
          "execution_count": 64
        }
      ]
    },
    {
      "cell_type": "code",
      "source": [
        "b=(1,2,3,4,5)"
      ],
      "metadata": {
        "id": "84LRXfpwMQh1"
      },
      "execution_count": null,
      "outputs": []
    },
    {
      "cell_type": "code",
      "source": [
        "max(b)"
      ],
      "metadata": {
        "colab": {
          "base_uri": "https://localhost:8080/"
        },
        "id": "u4dr_tJaS61T",
        "outputId": "0a1c6b34-9dc0-450c-ec28-bd7a99e648e1"
      },
      "execution_count": null,
      "outputs": [
        {
          "output_type": "execute_result",
          "data": {
            "text/plain": [
              "5"
            ]
          },
          "metadata": {},
          "execution_count": 68
        }
      ]
    },
    {
      "cell_type": "code",
      "source": [
        "b[0]!=1"
      ],
      "metadata": {
        "colab": {
          "base_uri": "https://localhost:8080/"
        },
        "id": "R0D-I59kS_t4",
        "outputId": "f8fcf8a7-58e7-4ce1-fac8-1eb4dcba4610"
      },
      "execution_count": null,
      "outputs": [
        {
          "output_type": "execute_result",
          "data": {
            "text/plain": [
              "False"
            ]
          },
          "metadata": {},
          "execution_count": 70
        }
      ]
    },
    {
      "cell_type": "code",
      "source": [
        "def lesser_of_two_evens(a,b):\n",
        "    if a%2==0 and b%2==0:\n",
        "      return min(a,b)\n",
        "    else:\n",
        "      return max(a,b)"
      ],
      "metadata": {
        "id": "zFpco4O9TZzv"
      },
      "execution_count": null,
      "outputs": []
    },
    {
      "cell_type": "code",
      "source": [
        "lesser_of_two_evens(2,4)"
      ],
      "metadata": {
        "colab": {
          "base_uri": "https://localhost:8080/"
        },
        "id": "npc3VrQIU0Xq",
        "outputId": "36ee56cc-f922-4b6d-f94f-6cb8f5097440"
      },
      "execution_count": null,
      "outputs": [
        {
          "output_type": "execute_result",
          "data": {
            "text/plain": [
              "2"
            ]
          },
          "metadata": {},
          "execution_count": 72
        }
      ]
    },
    {
      "cell_type": "code",
      "source": [
        "lesser_of_two_evens(2,5)"
      ],
      "metadata": {
        "colab": {
          "base_uri": "https://localhost:8080/"
        },
        "id": "SBcukJcOU5m9",
        "outputId": "fab1e74c-b0fc-4912-cb2b-191d97bce29e"
      },
      "execution_count": null,
      "outputs": [
        {
          "output_type": "execute_result",
          "data": {
            "text/plain": [
              "5"
            ]
          },
          "metadata": {},
          "execution_count": 73
        }
      ]
    },
    {
      "cell_type": "code",
      "source": [
        "s=('boy girl')"
      ],
      "metadata": {
        "id": "IXmIAHQwU8QI"
      },
      "execution_count": null,
      "outputs": []
    },
    {
      "cell_type": "code",
      "source": [
        "s.split()[1][0]"
      ],
      "metadata": {
        "colab": {
          "base_uri": "https://localhost:8080/",
          "height": 35
        },
        "id": "QCAZMWkEYKiH",
        "outputId": "80439139-50ac-44c9-9367-c403579448a6"
      },
      "execution_count": null,
      "outputs": [
        {
          "output_type": "execute_result",
          "data": {
            "application/vnd.google.colaboratory.intrinsic+json": {
              "type": "string"
            },
            "text/plain": [
              "'g'"
            ]
          },
          "metadata": {},
          "execution_count": 86
        }
      ]
    },
    {
      "cell_type": "markdown",
      "source": [
        "a function which takes in string with 2 words and returns True if the first letters of the two words are the same "
      ],
      "metadata": {
        "id": "r25EWy_7eAXe"
      }
    },
    {
      "cell_type": "code",
      "source": [
        "def animal_crackers(text):\n",
        "    if text.split()[0][0]==text.split()[1][0]:\n",
        "      return True\n",
        "    else:\n",
        "      return False"
      ],
      "metadata": {
        "id": "f8cz95FVYMbZ"
      },
      "execution_count": null,
      "outputs": []
    },
    {
      "cell_type": "code",
      "source": [
        "animal_crackers(\"tall tree\")"
      ],
      "metadata": {
        "colab": {
          "base_uri": "https://localhost:8080/"
        },
        "id": "SMgfvG63d1TW",
        "outputId": "d8f86180-da9a-45c5-dfa2-ce0ffe6bc5c8"
      },
      "execution_count": null,
      "outputs": [
        {
          "output_type": "execute_result",
          "data": {
            "text/plain": [
              "True"
            ]
          },
          "metadata": {},
          "execution_count": 88
        }
      ]
    },
    {
      "cell_type": "code",
      "source": [
        "animal_crackers(\"tall woman\")"
      ],
      "metadata": {
        "colab": {
          "base_uri": "https://localhost:8080/"
        },
        "id": "RICO9X4md-k_",
        "outputId": "279315a3-bd92-4ee9-f675-e2ad2b12a458"
      },
      "execution_count": null,
      "outputs": [
        {
          "output_type": "execute_result",
          "data": {
            "text/plain": [
              "False"
            ]
          },
          "metadata": {},
          "execution_count": 90
        }
      ]
    },
    {
      "cell_type": "code",
      "source": [
        ""
      ],
      "metadata": {
        "id": "1tya_muqefCR"
      },
      "execution_count": null,
      "outputs": []
    }
  ]
}